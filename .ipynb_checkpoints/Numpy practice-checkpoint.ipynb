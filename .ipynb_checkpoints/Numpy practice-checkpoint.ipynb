{
 "cells": [
  {
   "cell_type": "markdown",
   "id": "ff431e6c",
   "metadata": {},
   "source": [
    "# Welcome to Numpy Jupyter"
   ]
  },
  {
   "cell_type": "code",
   "execution_count": 1,
   "id": "4c52815e",
   "metadata": {},
   "outputs": [],
   "source": [
    "import numpy as np"
   ]
  },
  {
   "cell_type": "markdown",
   "id": "b7da0f89",
   "metadata": {},
   "source": [
    "**int8** \n",
    "is used for 8 byte if we exceed it more than 8 byte it will give us an error we can use **int64 int32** also, This is known as memory management"
   ]
  },
  {
   "cell_type": "code",
   "execution_count": 2,
   "id": "47d34b78",
   "metadata": {},
   "outputs": [],
   "source": [
    "myaray = np.array([3,43,23,5],np.int64)"
   ]
  },
  {
   "cell_type": "markdown",
   "id": "f13bcfee",
   "metadata": {},
   "source": [
    "**[[0,1,2,3,4]]** the two square braket is represent as the 2-D array and if I will use **[0,1,2,3,4]** the one square braket represent as the single 1-D array"
   ]
  },
  {
   "cell_type": "code",
   "execution_count": 3,
   "id": "c57cd7c9",
   "metadata": {},
   "outputs": [
    {
     "data": {
      "text/plain": [
       "3"
      ]
     },
     "execution_count": 3,
     "metadata": {},
     "output_type": "execute_result"
    }
   ],
   "source": [
    "myaray[0]\n"
   ]
  },
  {
   "cell_type": "code",
   "execution_count": 4,
   "id": "539133f6",
   "metadata": {},
   "outputs": [],
   "source": [
    "myarr = np.array([[3,2,43,21]],np.int64)"
   ]
  },
  {
   "cell_type": "code",
   "execution_count": 5,
   "id": "3b02f8ce",
   "metadata": {},
   "outputs": [
    {
     "data": {
      "text/plain": [
       "2"
      ]
     },
     "execution_count": 5,
     "metadata": {},
     "output_type": "execute_result"
    }
   ],
   "source": [
    "myarr[0,1]"
   ]
  },
  {
   "cell_type": "code",
   "execution_count": 7,
   "id": "58448eed",
   "metadata": {},
   "outputs": [
    {
     "data": {
      "text/plain": [
       "(1, 4)"
      ]
     },
     "execution_count": 7,
     "metadata": {},
     "output_type": "execute_result"
    }
   ],
   "source": [
    "# How to identify which information of data shape is it\n",
    "\n",
    "myarr.shape"
   ]
  },
  {
   "cell_type": "code",
   "execution_count": 8,
   "id": "8a46db3b",
   "metadata": {},
   "outputs": [
    {
     "data": {
      "text/plain": [
       "dtype('int64')"
      ]
     },
     "execution_count": 8,
     "metadata": {},
     "output_type": "execute_result"
    }
   ],
   "source": [
    "# How to identify what is it type of data in it\n",
    "\n",
    "myarr.dtype"
   ]
  },
  {
   "cell_type": "code",
   "execution_count": 9,
   "id": "59f82181",
   "metadata": {},
   "outputs": [],
   "source": [
    "myarr[0,3] = 530"
   ]
  },
  {
   "cell_type": "code",
   "execution_count": 10,
   "id": "8ad57b61",
   "metadata": {},
   "outputs": [
    {
     "data": {
      "text/plain": [
       "array([[  3,   2,  43, 530]], dtype=int64)"
      ]
     },
     "execution_count": 10,
     "metadata": {},
     "output_type": "execute_result"
    }
   ],
   "source": [
    "myarr"
   ]
  },
  {
   "cell_type": "markdown",
   "id": "555e6370",
   "metadata": {},
   "source": [
    "# Introduction\n",
    "\n",
    "**There are 5 general mechanisms for vreating arrays:**\n",
    "\n",
    "**1.** Conversion from other Python structures (e.g., lists, tuples)\n",
    "\n",
    "**2.** Intrinsic numpy array creation objects (e.g., arrange, ones, zeros, etc.)\n",
    "\n",
    "**3.** Reading arrays from disk, either from standard or custom formats\n",
    "\n",
    "**4.** Creating arrays from raw bytes through the use of strings or buffers\n",
    "\n",
    "**5.** Use of special library functions (e.g., random)"
   ]
  },
  {
   "cell_type": "code",
   "execution_count": 11,
   "id": "3f42d061",
   "metadata": {},
   "outputs": [],
   "source": [
    "# Array creation: Conversion from other Python structures\n",
    "\n",
    "listarray = np.array([[1,2,3],[4,5,6],[7,8,9]])"
   ]
  },
  {
   "cell_type": "code",
   "execution_count": 12,
   "id": "c7dd3ab1",
   "metadata": {},
   "outputs": [
    {
     "data": {
      "text/plain": [
       "array([[1, 2, 3],\n",
       "       [4, 5, 6],\n",
       "       [7, 8, 9]])"
      ]
     },
     "execution_count": 12,
     "metadata": {},
     "output_type": "execute_result"
    }
   ],
   "source": [
    "listarray"
   ]
  },
  {
   "cell_type": "code",
   "execution_count": 13,
   "id": "81e279f3",
   "metadata": {},
   "outputs": [
    {
     "data": {
      "text/plain": [
       "dtype('int32')"
      ]
     },
     "execution_count": 13,
     "metadata": {},
     "output_type": "execute_result"
    }
   ],
   "source": [
    "listarray.dtype"
   ]
  },
  {
   "cell_type": "code",
   "execution_count": 14,
   "id": "2908b368",
   "metadata": {},
   "outputs": [
    {
     "data": {
      "text/plain": [
       "9"
      ]
     },
     "execution_count": 14,
     "metadata": {},
     "output_type": "execute_result"
    }
   ],
   "source": [
    "listarray.size\n"
   ]
  },
  {
   "cell_type": "code",
   "execution_count": 15,
   "id": "681adeae",
   "metadata": {},
   "outputs": [
    {
     "data": {
      "text/plain": [
       "(3, 3)"
      ]
     },
     "execution_count": 15,
     "metadata": {},
     "output_type": "execute_result"
    }
   ],
   "source": [
    "listarray.shape"
   ]
  },
  {
   "cell_type": "code",
   "execution_count": 16,
   "id": "3e403bb2",
   "metadata": {},
   "outputs": [
    {
     "data": {
      "text/plain": [
       "array({32, 23}, dtype=object)"
      ]
     },
     "execution_count": 16,
     "metadata": {},
     "output_type": "execute_result"
    }
   ],
   "source": [
    "np.array({32,23,23})"
   ]
  },
  {
   "cell_type": "markdown",
   "id": "35d8cc8f",
   "metadata": {},
   "source": [
    "**dtype = object** creation isn't efficient to use so we will use most commonly inttype or float type data, because it will disturb you in calculations"
   ]
  },
  {
   "cell_type": "markdown",
   "id": "9d0f8c0b",
   "metadata": {},
   "source": [
    "# Instrinction function"
   ]
  },
  {
   "cell_type": "code",
   "execution_count": 17,
   "id": "cbfa6b84",
   "metadata": {},
   "outputs": [],
   "source": [
    "zeros = np.zeros((2,5))"
   ]
  },
  {
   "cell_type": "code",
   "execution_count": 18,
   "id": "5e379905",
   "metadata": {},
   "outputs": [
    {
     "data": {
      "text/plain": [
       "10"
      ]
     },
     "execution_count": 18,
     "metadata": {},
     "output_type": "execute_result"
    }
   ],
   "source": [
    "zeros.size"
   ]
  },
  {
   "cell_type": "code",
   "execution_count": 19,
   "id": "386ce5c7",
   "metadata": {},
   "outputs": [
    {
     "data": {
      "text/plain": [
       "array([[0., 0., 0., 0., 0.],\n",
       "       [0., 0., 0., 0., 0.]])"
      ]
     },
     "execution_count": 19,
     "metadata": {},
     "output_type": "execute_result"
    }
   ],
   "source": [
    "zeros"
   ]
  },
  {
   "cell_type": "code",
   "execution_count": 20,
   "id": "61d95f99",
   "metadata": {},
   "outputs": [
    {
     "data": {
      "text/plain": [
       "dtype('float64')"
      ]
     },
     "execution_count": 20,
     "metadata": {},
     "output_type": "execute_result"
    }
   ],
   "source": [
    "zeros.dtype"
   ]
  },
  {
   "cell_type": "code",
   "execution_count": 22,
   "id": "a219803a",
   "metadata": {},
   "outputs": [],
   "source": [
    "# Simple increment in number till 0 to 14\n",
    "\n",
    "rng = np.arange(15)"
   ]
  },
  {
   "cell_type": "code",
   "execution_count": 23,
   "id": "93dda20a",
   "metadata": {},
   "outputs": [
    {
     "data": {
      "text/plain": [
       "array([ 0,  1,  2,  3,  4,  5,  6,  7,  8,  9, 10, 11, 12, 13, 14])"
      ]
     },
     "execution_count": 23,
     "metadata": {},
     "output_type": "execute_result"
    }
   ],
   "source": [
    "rng "
   ]
  },
  {
   "cell_type": "code",
   "execution_count": 26,
   "id": "9ddc5c33",
   "metadata": {},
   "outputs": [],
   "source": [
    "# It will gives the 1 to 5 range linearly exactly equally space in 12 element give us\n",
    "\n",
    "lspace = np.linspace(1,50,12)"
   ]
  },
  {
   "cell_type": "code",
   "execution_count": 27,
   "id": "f8f2e2c6",
   "metadata": {},
   "outputs": [
    {
     "data": {
      "text/plain": [
       "array([ 1.        ,  5.45454545,  9.90909091, 14.36363636, 18.81818182,\n",
       "       23.27272727, 27.72727273, 32.18181818, 36.63636364, 41.09090909,\n",
       "       45.54545455, 50.        ])"
      ]
     },
     "execution_count": 27,
     "metadata": {},
     "output_type": "execute_result"
    }
   ],
   "source": [
    "lspace"
   ]
  },
  {
   "cell_type": "code",
   "execution_count": 28,
   "id": "8f3c95ab",
   "metadata": {},
   "outputs": [],
   "source": [
    "# It will gives a empty array and in this element which we get is random\n",
    "\n",
    "emmp = np.empty((4,6))"
   ]
  },
  {
   "cell_type": "code",
   "execution_count": 29,
   "id": "6eff0142",
   "metadata": {},
   "outputs": [
    {
     "data": {
      "text/plain": [
       "array([[6.23042070e-307, 1.86918699e-306, 1.69121096e-306,\n",
       "        1.11260280e-306, 4.45061456e-308, 1.69120552e-306],\n",
       "       [7.56587585e-307, 1.37961302e-306, 1.05699242e-307,\n",
       "        8.01097889e-307, 1.78020169e-306, 7.56601165e-307],\n",
       "       [1.02359984e-306, 1.33510679e-306, 2.22522597e-306,\n",
       "        1.33511018e-306, 6.23057689e-307, 9.45754852e-308],\n",
       "       [1.27946076e-307, 1.05700515e-307, 1.11261774e-306,\n",
       "        1.29060871e-306, 8.34424766e-308, 2.12203497e-312]])"
      ]
     },
     "execution_count": 29,
     "metadata": {},
     "output_type": "execute_result"
    }
   ],
   "source": [
    "emmp\n"
   ]
  },
  {
   "cell_type": "code",
   "execution_count": 30,
   "id": "23814746",
   "metadata": {},
   "outputs": [],
   "source": [
    "# it will copy that array and make that array as empty \n",
    "\n",
    "emplike = np.empty_like(lspace)"
   ]
  },
  {
   "cell_type": "code",
   "execution_count": 31,
   "id": "c39aaafd",
   "metadata": {},
   "outputs": [
    {
     "data": {
      "text/plain": [
       "array([ 1.        ,  5.45454545,  9.90909091, 14.36363636, 18.81818182,\n",
       "       23.27272727, 27.72727273, 32.18181818, 36.63636364, 41.09090909,\n",
       "       45.54545455, 50.        ])"
      ]
     },
     "execution_count": 31,
     "metadata": {},
     "output_type": "execute_result"
    }
   ],
   "source": [
    "emplike"
   ]
  },
  {
   "cell_type": "code",
   "execution_count": 33,
   "id": "c72e807b",
   "metadata": {},
   "outputs": [],
   "source": [
    "# it will create 45 x 45 identity array\n",
    "\n",
    "# np.eye is also make an 2-D identity array\n",
    "\n",
    "ide = np.identity(45)"
   ]
  },
  {
   "cell_type": "code",
   "execution_count": 34,
   "id": "6653cddb",
   "metadata": {},
   "outputs": [
    {
     "data": {
      "text/plain": [
       "array([[1., 0., 0., ..., 0., 0., 0.],\n",
       "       [0., 1., 0., ..., 0., 0., 0.],\n",
       "       [0., 0., 1., ..., 0., 0., 0.],\n",
       "       ...,\n",
       "       [0., 0., 0., ..., 1., 0., 0.],\n",
       "       [0., 0., 0., ..., 0., 1., 0.],\n",
       "       [0., 0., 0., ..., 0., 0., 1.]])"
      ]
     },
     "execution_count": 34,
     "metadata": {},
     "output_type": "execute_result"
    }
   ],
   "source": [
    "ide"
   ]
  },
  {
   "cell_type": "code",
   "execution_count": 35,
   "id": "b032ea03",
   "metadata": {},
   "outputs": [
    {
     "data": {
      "text/plain": [
       "(45, 45)"
      ]
     },
     "execution_count": 35,
     "metadata": {},
     "output_type": "execute_result"
    }
   ],
   "source": [
    "ide.shape"
   ]
  },
  {
   "cell_type": "code",
   "execution_count": 37,
   "id": "82b9bc96",
   "metadata": {},
   "outputs": [],
   "source": [
    "arr = np.arange(99)"
   ]
  },
  {
   "cell_type": "code",
   "execution_count": 38,
   "id": "f74f9891",
   "metadata": {},
   "outputs": [
    {
     "data": {
      "text/plain": [
       "array([ 0,  1,  2,  3,  4,  5,  6,  7,  8,  9, 10, 11, 12, 13, 14, 15, 16,\n",
       "       17, 18, 19, 20, 21, 22, 23, 24, 25, 26, 27, 28, 29, 30, 31, 32, 33,\n",
       "       34, 35, 36, 37, 38, 39, 40, 41, 42, 43, 44, 45, 46, 47, 48, 49, 50,\n",
       "       51, 52, 53, 54, 55, 56, 57, 58, 59, 60, 61, 62, 63, 64, 65, 66, 67,\n",
       "       68, 69, 70, 71, 72, 73, 74, 75, 76, 77, 78, 79, 80, 81, 82, 83, 84,\n",
       "       85, 86, 87, 88, 89, 90, 91, 92, 93, 94, 95, 96, 97, 98])"
      ]
     },
     "execution_count": 38,
     "metadata": {},
     "output_type": "execute_result"
    }
   ],
   "source": [
    "arr"
   ]
  },
  {
   "cell_type": "code",
   "execution_count": 39,
   "id": "7d13e025",
   "metadata": {},
   "outputs": [],
   "source": [
    "#  we must consider on this step the array after multiply x and y axis\n",
    "# we should get exact axis which we have an actual array\n",
    "# Like if i will apply (3,31) it will through an error so\n",
    "# I will use this 3 x 33 = 99 and 3 x 31 = 93\n",
    "\n",
    "# There are 3 rows and 33 columns\n",
    "\n",
    "abc = arr.reshape(3, 33)"
   ]
  },
  {
   "cell_type": "code",
   "execution_count": 40,
   "id": "85fad00f",
   "metadata": {},
   "outputs": [
    {
     "data": {
      "text/plain": [
       "array([[ 0,  1,  2,  3,  4,  5,  6,  7,  8,  9, 10, 11, 12, 13, 14, 15,\n",
       "        16, 17, 18, 19, 20, 21, 22, 23, 24, 25, 26, 27, 28, 29, 30, 31,\n",
       "        32],\n",
       "       [33, 34, 35, 36, 37, 38, 39, 40, 41, 42, 43, 44, 45, 46, 47, 48,\n",
       "        49, 50, 51, 52, 53, 54, 55, 56, 57, 58, 59, 60, 61, 62, 63, 64,\n",
       "        65],\n",
       "       [66, 67, 68, 69, 70, 71, 72, 73, 74, 75, 76, 77, 78, 79, 80, 81,\n",
       "        82, 83, 84, 85, 86, 87, 88, 89, 90, 91, 92, 93, 94, 95, 96, 97,\n",
       "        98]])"
      ]
     },
     "execution_count": 40,
     "metadata": {},
     "output_type": "execute_result"
    }
   ],
   "source": [
    "abc"
   ]
  },
  {
   "cell_type": "code",
   "execution_count": 43,
   "id": "fae7f3ee",
   "metadata": {},
   "outputs": [],
   "source": [
    "# ravel() function convert 2-D array into the 1-D Array\n",
    "\n",
    "abc = abc.ravel()"
   ]
  },
  {
   "cell_type": "code",
   "execution_count": 44,
   "id": "a361e1d7",
   "metadata": {},
   "outputs": [
    {
     "data": {
      "text/plain": [
       "array([ 0,  1,  2,  3,  4,  5,  6,  7,  8,  9, 10, 11, 12, 13, 14, 15, 16,\n",
       "       17, 18, 19, 20, 21, 22, 23, 24, 25, 26, 27, 28, 29, 30, 31, 32, 33,\n",
       "       34, 35, 36, 37, 38, 39, 40, 41, 42, 43, 44, 45, 46, 47, 48, 49, 50,\n",
       "       51, 52, 53, 54, 55, 56, 57, 58, 59, 60, 61, 62, 63, 64, 65, 66, 67,\n",
       "       68, 69, 70, 71, 72, 73, 74, 75, 76, 77, 78, 79, 80, 81, 82, 83, 84,\n",
       "       85, 86, 87, 88, 89, 90, 91, 92, 93, 94, 95, 96, 97, 98])"
      ]
     },
     "execution_count": 44,
     "metadata": {},
     "output_type": "execute_result"
    }
   ],
   "source": [
    "abc\n"
   ]
  },
  {
   "cell_type": "code",
   "execution_count": 45,
   "id": "bef840a7",
   "metadata": {},
   "outputs": [
    {
     "data": {
      "text/plain": [
       "(99,)"
      ]
     },
     "execution_count": 45,
     "metadata": {},
     "output_type": "execute_result"
    }
   ],
   "source": [
    "arr.shape"
   ]
  },
  {
   "cell_type": "code",
   "execution_count": 46,
   "id": "fda0c50b",
   "metadata": {},
   "outputs": [
    {
     "data": {
      "text/plain": [
       "(99,)"
      ]
     },
     "execution_count": 46,
     "metadata": {},
     "output_type": "execute_result"
    }
   ],
   "source": [
    "abc.shape"
   ]
  },
  {
   "cell_type": "code",
   "execution_count": 47,
   "id": "7ac0f739",
   "metadata": {},
   "outputs": [],
   "source": [
    "# This is the 1Row and 2Column and with fill it with ones\n",
    "\n",
    "aray = np.ones((1,2))"
   ]
  },
  {
   "cell_type": "code",
   "execution_count": 48,
   "id": "e4326c26",
   "metadata": {},
   "outputs": [
    {
     "data": {
      "text/plain": [
       "array([[1., 1.]])"
      ]
     },
     "execution_count": 48,
     "metadata": {},
     "output_type": "execute_result"
    }
   ],
   "source": [
    "aray"
   ]
  },
  {
   "cell_type": "code",
   "execution_count": 49,
   "id": "6ca3a12b",
   "metadata": {},
   "outputs": [],
   "source": [
    "# This is 2 X 2 array and fill with 7\n",
    "\n",
    "fully =  np.full((2,2),7)"
   ]
  },
  {
   "cell_type": "code",
   "execution_count": 50,
   "id": "acbb45ca",
   "metadata": {},
   "outputs": [
    {
     "data": {
      "text/plain": [
       "array([[7, 7],\n",
       "       [7, 7]])"
      ]
     },
     "execution_count": 50,
     "metadata": {},
     "output_type": "execute_result"
    }
   ],
   "source": [
    "fully"
   ]
  },
  {
   "cell_type": "code",
   "execution_count": 52,
   "id": "956d9589",
   "metadata": {},
   "outputs": [],
   "source": [
    "# It will create 2X2 random array\n",
    "\n",
    "ran = np.random.random((2,2))"
   ]
  },
  {
   "cell_type": "code",
   "execution_count": 53,
   "id": "8fe82c46",
   "metadata": {},
   "outputs": [
    {
     "data": {
      "text/plain": [
       "array([[0.21397233, 0.72893535],\n",
       "       [0.5404114 , 0.64579383]])"
      ]
     },
     "execution_count": 53,
     "metadata": {},
     "output_type": "execute_result"
    }
   ],
   "source": [
    "ran"
   ]
  },
  {
   "cell_type": "markdown",
   "id": "fcd0fd1b",
   "metadata": {},
   "source": [
    "# Slicing"
   ]
  },
  {
   "cell_type": "code",
   "execution_count": 54,
   "id": "bff91530",
   "metadata": {},
   "outputs": [],
   "source": [
    "a=np.array([[1,2,3,4],\n",
    "            [5,6,7,8],\n",
    "            [9,10,11,12]])"
   ]
  },
  {
   "cell_type": "code",
   "execution_count": 72,
   "id": "4f42ed11",
   "metadata": {
    "scrolled": true
   },
   "outputs": [
    {
     "name": "stdout",
     "output_type": "stream",
     "text": [
      "[[7 8]]\n"
     ]
    }
   ],
   "source": [
    "# 1:2 is representing a Rows and 2:4 is representing a ccolumn\n",
    "\n",
    "b = a[1:2,2:4]\n",
    "\n",
    "print(b)"
   ]
  },
  {
   "cell_type": "markdown",
   "id": "b74ef0f6",
   "metadata": {},
   "source": [
    "**How we can use axis=0** \n",
    "\n",
    "Actually it's represent the column1 , Column 2, column 3 values."
   ]
  },
  {
   "cell_type": "code",
   "execution_count": 76,
   "id": "8794e8a7",
   "metadata": {},
   "outputs": [
    {
     "data": {
      "text/plain": [
       "array([15, 18, 21, 24])"
      ]
     },
     "execution_count": 76,
     "metadata": {},
     "output_type": "execute_result"
    }
   ],
   "source": [
    "# This sum the value column wise it's direction is up to down |\n",
    "\n",
    "a.sum(axis = 0)"
   ]
  },
  {
   "cell_type": "markdown",
   "id": "054062d3",
   "metadata": {},
   "source": [
    "\n",
    "**How we can use axis=1**\n",
    "\n",
    "Actually it's represent the Row1 , Row 2, Row 3 values."
   ]
  },
  {
   "cell_type": "code",
   "execution_count": 77,
   "id": "3ef6d629",
   "metadata": {},
   "outputs": [
    {
     "data": {
      "text/plain": [
       "array([10, 26, 42])"
      ]
     },
     "execution_count": 77,
     "metadata": {},
     "output_type": "execute_result"
    }
   ],
   "source": [
    "# This sum the value row wise it's direction is left to right |\n",
    "\n",
    "a.sum(axis = 1)"
   ]
  },
  {
   "cell_type": "markdown",
   "id": "24d61e80",
   "metadata": {},
   "source": [
    "# How to Transpose an Array"
   ]
  },
  {
   "cell_type": "code",
   "execution_count": 78,
   "id": "559e6d03",
   "metadata": {},
   "outputs": [
    {
     "data": {
      "text/plain": [
       "array([[ 1,  5,  9],\n",
       "       [ 2,  6, 10],\n",
       "       [ 3,  7, 11],\n",
       "       [ 4,  8, 12]])"
      ]
     },
     "execution_count": 78,
     "metadata": {},
     "output_type": "execute_result"
    }
   ],
   "source": [
    "# Capital T is transpose the array\n",
    "\n",
    "a.T"
   ]
  },
  {
   "cell_type": "markdown",
   "id": "851b0503",
   "metadata": {},
   "source": [
    "# How to contain an items of an array through flat"
   ]
  },
  {
   "cell_type": "code",
   "execution_count": 79,
   "id": "36ea7cce",
   "metadata": {},
   "outputs": [
    {
     "data": {
      "text/plain": [
       "<numpy.flatiter at 0x1c4c743b3d0>"
      ]
     },
     "execution_count": 79,
     "metadata": {},
     "output_type": "execute_result"
    }
   ],
   "source": [
    "a.flat"
   ]
  },
  {
   "cell_type": "code",
   "execution_count": 80,
   "id": "e8e213d0",
   "metadata": {},
   "outputs": [
    {
     "name": "stdout",
     "output_type": "stream",
     "text": [
      "1\n",
      "2\n",
      "3\n",
      "4\n",
      "5\n",
      "6\n",
      "7\n",
      "8\n",
      "9\n",
      "10\n",
      "11\n",
      "12\n"
     ]
    }
   ],
   "source": [
    "#Such as\n",
    "\n",
    "for item in a.flat:\n",
    "    print(item)"
   ]
  },
  {
   "cell_type": "markdown",
   "id": "d1723554",
   "metadata": {},
   "source": [
    "# How to check dimension\n"
   ]
  },
  {
   "cell_type": "code",
   "execution_count": 81,
   "id": "0aa812ec",
   "metadata": {},
   "outputs": [
    {
     "data": {
      "text/plain": [
       "2"
      ]
     },
     "execution_count": 81,
     "metadata": {},
     "output_type": "execute_result"
    }
   ],
   "source": [
    "a.ndim"
   ]
  },
  {
   "cell_type": "code",
   "execution_count": 82,
   "id": "16404470",
   "metadata": {},
   "outputs": [
    {
     "data": {
      "text/plain": [
       "12"
      ]
     },
     "execution_count": 82,
     "metadata": {},
     "output_type": "execute_result"
    }
   ],
   "source": [
    "a.size"
   ]
  },
  {
   "cell_type": "code",
   "execution_count": 84,
   "id": "2417a769",
   "metadata": {},
   "outputs": [
    {
     "data": {
      "text/plain": [
       "48"
      ]
     },
     "execution_count": 84,
     "metadata": {},
     "output_type": "execute_result"
    }
   ],
   "source": [
    "# how many space containn through the array by your elements\n",
    "\n",
    "a.nbytes"
   ]
  },
  {
   "cell_type": "code",
   "execution_count": 104,
   "id": "0a9113e1",
   "metadata": {},
   "outputs": [],
   "source": [
    "one = np.array([1,3,4,634,2])\n",
    "two = np.array([1,3,214,26,2])"
   ]
  },
  {
   "cell_type": "code",
   "execution_count": 105,
   "id": "c08d06d0",
   "metadata": {},
   "outputs": [
    {
     "data": {
      "text/plain": [
       "2"
      ]
     },
     "execution_count": 105,
     "metadata": {},
     "output_type": "execute_result"
    }
   ],
   "source": [
    "# It gives us the index number where's our maximum element exists\n",
    "\n",
    "one.argmax()\n",
    "two.argmax()"
   ]
  },
  {
   "cell_type": "code",
   "execution_count": 107,
   "id": "a7d8ab2b",
   "metadata": {},
   "outputs": [
    {
     "data": {
      "text/plain": [
       "0"
      ]
     },
     "execution_count": 107,
     "metadata": {},
     "output_type": "execute_result"
    }
   ],
   "source": [
    "# It gives us the index number where's our minimum element exists\n",
    "\n",
    "one.argmin()"
   ]
  },
  {
   "cell_type": "code",
   "execution_count": 108,
   "id": "32e9e500",
   "metadata": {},
   "outputs": [
    {
     "data": {
      "text/plain": [
       "array([0, 4, 1, 2, 3], dtype=int64)"
      ]
     },
     "execution_count": 108,
     "metadata": {},
     "output_type": "execute_result"
    }
   ],
   "source": [
    "# It's give us those indexes which sort the array\n",
    "\n",
    "one.argsort()"
   ]
  },
  {
   "cell_type": "code",
   "execution_count": 109,
   "id": "72e61166",
   "metadata": {},
   "outputs": [
    {
     "data": {
      "text/plain": [
       "0"
      ]
     },
     "execution_count": 109,
     "metadata": {},
     "output_type": "execute_result"
    }
   ],
   "source": [
    "a.argmin()"
   ]
  },
  {
   "cell_type": "code",
   "execution_count": 110,
   "id": "21efb61f",
   "metadata": {},
   "outputs": [
    {
     "data": {
      "text/plain": [
       "array([2, 2, 2, 2], dtype=int64)"
      ]
     },
     "execution_count": 110,
     "metadata": {},
     "output_type": "execute_result"
    }
   ],
   "source": [
    "a.argmax(axis=0)"
   ]
  },
  {
   "cell_type": "code",
   "execution_count": 111,
   "id": "3eb19192",
   "metadata": {},
   "outputs": [
    {
     "data": {
      "text/plain": [
       "array([3, 3, 3], dtype=int64)"
      ]
     },
     "execution_count": 111,
     "metadata": {},
     "output_type": "execute_result"
    }
   ],
   "source": [
    "a.argmax(axis=1)"
   ]
  },
  {
   "cell_type": "code",
   "execution_count": 115,
   "id": "502a456d",
   "metadata": {},
   "outputs": [
    {
     "data": {
      "text/plain": [
       "array([ 1,  2,  3,  4,  5,  6,  7,  8,  9, 10, 11, 12])"
      ]
     },
     "execution_count": 115,
     "metadata": {},
     "output_type": "execute_result"
    }
   ],
   "source": [
    "a.ravel()"
   ]
  },
  {
   "cell_type": "code",
   "execution_count": 118,
   "id": "cc0b780b",
   "metadata": {},
   "outputs": [
    {
     "data": {
      "text/plain": [
       "array([[ 1],\n",
       "       [ 2],\n",
       "       [ 3],\n",
       "       [ 4],\n",
       "       [ 5],\n",
       "       [ 6],\n",
       "       [ 7],\n",
       "       [ 8],\n",
       "       [ 9],\n",
       "       [10],\n",
       "       [11],\n",
       "       [12]])"
      ]
     },
     "execution_count": 118,
     "metadata": {},
     "output_type": "execute_result"
    }
   ],
   "source": [
    "# It's change the indexes rows and column wise\n",
    "\n",
    "a.reshape((12,1))"
   ]
  },
  {
   "cell_type": "markdown",
   "id": "94a114e8",
   "metadata": {},
   "source": [
    "# Mathematical Operation"
   ]
  },
  {
   "cell_type": "code",
   "execution_count": 121,
   "id": "f97d7598",
   "metadata": {},
   "outputs": [],
   "source": [
    "ab = np.array([[2,3,4,3],\n",
    "               [1,1,5,5],\n",
    "               [3,6,7,6]])"
   ]
  },
  {
   "cell_type": "code",
   "execution_count": 122,
   "id": "ce906eef",
   "metadata": {},
   "outputs": [
    {
     "data": {
      "text/plain": [
       "array([[ 3,  5,  7,  7],\n",
       "       [ 6,  7, 12, 13],\n",
       "       [12, 16, 18, 18]])"
      ]
     },
     "execution_count": 122,
     "metadata": {},
     "output_type": "execute_result"
    }
   ],
   "source": [
    "a +ab"
   ]
  },
  {
   "cell_type": "code",
   "execution_count": 124,
   "id": "c26d0047",
   "metadata": {},
   "outputs": [
    {
     "data": {
      "text/plain": [
       "[21, 33, 12, 12]"
      ]
     },
     "execution_count": 124,
     "metadata": {},
     "output_type": "execute_result"
    }
   ],
   "source": [
    "# Extend the list\n",
    "\n",
    "[21,33]+[12,12]"
   ]
  },
  {
   "cell_type": "code",
   "execution_count": 125,
   "id": "420fbcdb",
   "metadata": {},
   "outputs": [
    {
     "data": {
      "text/plain": [
       "array([[ 2,  6, 12, 12],\n",
       "       [ 5,  6, 35, 40],\n",
       "       [27, 60, 77, 72]])"
      ]
     },
     "execution_count": 125,
     "metadata": {},
     "output_type": "execute_result"
    }
   ],
   "source": [
    "a * ab"
   ]
  },
  {
   "cell_type": "code",
   "execution_count": 127,
   "id": "938bf75c",
   "metadata": {},
   "outputs": [
    {
     "data": {
      "text/plain": [
       "array([[1.41421356, 1.73205081, 2.        , 1.73205081],\n",
       "       [1.        , 1.        , 2.23606798, 2.23606798],\n",
       "       [1.73205081, 2.44948974, 2.64575131, 2.44948974]])"
      ]
     },
     "execution_count": 127,
     "metadata": {},
     "output_type": "execute_result"
    }
   ],
   "source": [
    "# It's taking an square root of the element\n",
    "\n",
    "np.sqrt(ab)"
   ]
  },
  {
   "cell_type": "code",
   "execution_count": 129,
   "id": "5159cd64",
   "metadata": {},
   "outputs": [
    {
     "data": {
      "text/plain": [
       "46"
      ]
     },
     "execution_count": 129,
     "metadata": {},
     "output_type": "execute_result"
    }
   ],
   "source": [
    "# Sum of all ellements\n",
    "\n",
    "ab.sum()"
   ]
  },
  {
   "cell_type": "code",
   "execution_count": 130,
   "id": "404780ed",
   "metadata": {},
   "outputs": [
    {
     "data": {
      "text/plain": [
       "7"
      ]
     },
     "execution_count": 130,
     "metadata": {},
     "output_type": "execute_result"
    }
   ],
   "source": [
    "ab.max()"
   ]
  },
  {
   "cell_type": "code",
   "execution_count": 131,
   "id": "6a071e4d",
   "metadata": {},
   "outputs": [
    {
     "data": {
      "text/plain": [
       "1"
      ]
     },
     "execution_count": 131,
     "metadata": {},
     "output_type": "execute_result"
    }
   ],
   "source": [
    "ab.min()"
   ]
  },
  {
   "cell_type": "markdown",
   "id": "9521b071",
   "metadata": {},
   "source": [
    "# How to find the Element"
   ]
  },
  {
   "cell_type": "code",
   "execution_count": 132,
   "id": "2dcebf97",
   "metadata": {},
   "outputs": [
    {
     "data": {
      "text/plain": [
       "(array([2, 2, 2], dtype=int64), array([1, 2, 3], dtype=int64))"
      ]
     },
     "execution_count": 132,
     "metadata": {},
     "output_type": "execute_result"
    }
   ],
   "source": [
    "np.where(ab>5)"
   ]
  },
  {
   "cell_type": "markdown",
   "id": "08789cd5",
   "metadata": {},
   "source": [
    "**(array([2, 2, 2], dtype=int64), array([1, 2, 3], dtype=int64))**\n",
    "\n",
    "\n",
    "Here is first array[2] **Row** to second array[1] **Column**\n",
    "\n",
    "Here is first array[2] **Row** to second array[2] **Column**\n",
    "\n",
    "Here is first array[2] **Row** to second array[3] **Column**"
   ]
  },
  {
   "cell_type": "code",
   "execution_count": 133,
   "id": "2f8f3ec1",
   "metadata": {},
   "outputs": [
    {
     "data": {
      "text/plain": [
       "tuple"
      ]
     },
     "execution_count": 133,
     "metadata": {},
     "output_type": "execute_result"
    }
   ],
   "source": [
    "type(np.where(ab>5))"
   ]
  },
  {
   "cell_type": "code",
   "execution_count": 134,
   "id": "ea33aa02",
   "metadata": {},
   "outputs": [
    {
     "data": {
      "text/plain": [
       "12"
      ]
     },
     "execution_count": 134,
     "metadata": {},
     "output_type": "execute_result"
    }
   ],
   "source": [
    "# It will count the non zero elements\n",
    "\n",
    "np.count_nonzero(ab)"
   ]
  },
  {
   "cell_type": "code",
   "execution_count": 135,
   "id": "b75c4563",
   "metadata": {},
   "outputs": [
    {
     "data": {
      "text/plain": [
       "(array([0, 0, 0, 0, 1, 1, 1, 1, 2, 2, 2, 2], dtype=int64),\n",
       " array([0, 1, 2, 3, 0, 1, 2, 3, 0, 1, 2, 3], dtype=int64))"
      ]
     },
     "execution_count": 135,
     "metadata": {},
     "output_type": "execute_result"
    }
   ],
   "source": [
    "# Now it's tell us where is non zero element presents\n",
    "\n",
    "np.nonzero(ab)"
   ]
  },
  {
   "cell_type": "code",
   "execution_count": null,
   "id": "eb7e5886",
   "metadata": {},
   "outputs": [],
   "source": []
  }
 ],
 "metadata": {
  "kernelspec": {
   "display_name": "Python 3",
   "language": "python",
   "name": "python3"
  },
  "language_info": {
   "codemirror_mode": {
    "name": "ipython",
    "version": 3
   },
   "file_extension": ".py",
   "mimetype": "text/x-python",
   "name": "python",
   "nbconvert_exporter": "python",
   "pygments_lexer": "ipython3",
   "version": "3.8.8"
  }
 },
 "nbformat": 4,
 "nbformat_minor": 5
}

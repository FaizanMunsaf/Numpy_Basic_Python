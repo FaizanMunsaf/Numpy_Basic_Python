{
 "cells": [
  {
   "cell_type": "markdown",
   "id": "28cf68f8",
   "metadata": {},
   "source": [
    "# Welcome to Numpy Jupyter"
   ]
  },
  {
   "cell_type": "code",
   "execution_count": 1,
   "id": "92135f63",
   "metadata": {},
   "outputs": [],
   "source": [
    "import numpy as np"
   ]
  },
  {
   "cell_type": "markdown",
   "id": "6093e735",
   "metadata": {},
   "source": [
    "**int8** \n",
    "is used for 8 byte if we exceed it more than 8 byte it will give us an error we can use **int64 int32** also, This is known as memory management"
   ]
  },
  {
   "cell_type": "code",
   "execution_count": 2,
   "id": "93428d87",
   "metadata": {},
   "outputs": [],
   "source": [
    "myaray = np.array([3,43,23,5],np.int64)"
   ]
  },
  {
   "cell_type": "markdown",
   "id": "57212101",
   "metadata": {},
   "source": [
    "**[[0,1,2,3,4]]** the two square braket is represent as the 2-D array and if I will use **[0,1,2,3,4]** the one square braket represent as the single 1-D array"
   ]
  },
  {
   "cell_type": "code",
   "execution_count": 3,
   "id": "bd725cc3",
   "metadata": {},
   "outputs": [
    {
     "data": {
      "text/plain": [
       "3"
      ]
     },
     "execution_count": 3,
     "metadata": {},
     "output_type": "execute_result"
    }
   ],
   "source": [
    "myaray[0]\n"
   ]
  },
  {
   "cell_type": "code",
   "execution_count": 4,
   "id": "6d9feedf",
   "metadata": {},
   "outputs": [],
   "source": [
    "myarr = np.array([[3,2,43,21]],np.int64)"
   ]
  },
  {
   "cell_type": "code",
   "execution_count": 5,
   "id": "234fffe9",
   "metadata": {},
   "outputs": [
    {
     "data": {
      "text/plain": [
       "2"
      ]
     },
     "execution_count": 5,
     "metadata": {},
     "output_type": "execute_result"
    }
   ],
   "source": [
    "myarr[0,1]"
   ]
  },
  {
   "cell_type": "code",
   "execution_count": 7,
   "id": "778f58cc",
   "metadata": {},
   "outputs": [
    {
     "data": {
      "text/plain": [
       "(1, 4)"
      ]
     },
     "execution_count": 7,
     "metadata": {},
     "output_type": "execute_result"
    }
   ],
   "source": [
    "# How to identify which information of data shape is it\n",
    "\n",
    "myarr.shape"
   ]
  },
  {
   "cell_type": "code",
   "execution_count": 8,
   "id": "7279f761",
   "metadata": {},
   "outputs": [
    {
     "data": {
      "text/plain": [
       "dtype('int64')"
      ]
     },
     "execution_count": 8,
     "metadata": {},
     "output_type": "execute_result"
    }
   ],
   "source": [
    "# How to identify what is it type of data in it\n",
    "\n",
    "myarr.dtype"
   ]
  },
  {
   "cell_type": "code",
   "execution_count": 9,
   "id": "8792ef95",
   "metadata": {},
   "outputs": [],
   "source": [
    "myarr[0,3] = 530"
   ]
  },
  {
   "cell_type": "code",
   "execution_count": 10,
   "id": "b09c4af5",
   "metadata": {},
   "outputs": [
    {
     "data": {
      "text/plain": [
       "array([[  3,   2,  43, 530]], dtype=int64)"
      ]
     },
     "execution_count": 10,
     "metadata": {},
     "output_type": "execute_result"
    }
   ],
   "source": [
    "myarr"
   ]
  },
  {
   "cell_type": "markdown",
   "id": "07f0f6bc",
   "metadata": {},
   "source": [
    "# Introduction\n",
    "\n",
    "**There are 5 general mechanisms for vreating arrays:**\n",
    "\n",
    "**1.** Conversion from other Python structures (e.g., lists, tuples)\n",
    "\n",
    "**2.** Intrinsic numpy array creation objects (e.g., arrange, ones, zeros, etc.)\n",
    "\n",
    "**3.** Reading arrays from disk, either from standard or custom formats\n",
    "\n",
    "**4.** Creating arrays from raw bytes through the use of strings or buffers\n",
    "\n",
    "**5.** Use of special library functions (e.g., random)"
   ]
  },
  {
   "cell_type": "code",
   "execution_count": 11,
   "id": "fdd9fdae",
   "metadata": {},
   "outputs": [],
   "source": [
    "# Array creation: Conversion from other Python structures\n",
    "\n",
    "listarray = np.array([[1,2,3],[4,5,6],[7,8,9]])"
   ]
  },
  {
   "cell_type": "code",
   "execution_count": 12,
   "id": "beb4e01a",
   "metadata": {},
   "outputs": [
    {
     "data": {
      "text/plain": [
       "array([[1, 2, 3],\n",
       "       [4, 5, 6],\n",
       "       [7, 8, 9]])"
      ]
     },
     "execution_count": 12,
     "metadata": {},
     "output_type": "execute_result"
    }
   ],
   "source": [
    "listarray"
   ]
  },
  {
   "cell_type": "code",
   "execution_count": 13,
   "id": "6b2f5d52",
   "metadata": {},
   "outputs": [
    {
     "data": {
      "text/plain": [
       "dtype('int32')"
      ]
     },
     "execution_count": 13,
     "metadata": {},
     "output_type": "execute_result"
    }
   ],
   "source": [
    "listarray.dtype"
   ]
  },
  {
   "cell_type": "code",
   "execution_count": 14,
   "id": "9d23f88c",
   "metadata": {},
   "outputs": [
    {
     "data": {
      "text/plain": [
       "9"
      ]
     },
     "execution_count": 14,
     "metadata": {},
     "output_type": "execute_result"
    }
   ],
   "source": [
    "listarray.size\n"
   ]
  },
  {
   "cell_type": "code",
   "execution_count": 15,
   "id": "2cdcf301",
   "metadata": {},
   "outputs": [
    {
     "data": {
      "text/plain": [
       "(3, 3)"
      ]
     },
     "execution_count": 15,
     "metadata": {},
     "output_type": "execute_result"
    }
   ],
   "source": [
    "listarray.shape"
   ]
  },
  {
   "cell_type": "code",
   "execution_count": 16,
   "id": "3c7d1504",
   "metadata": {},
   "outputs": [
    {
     "data": {
      "text/plain": [
       "array({32, 23}, dtype=object)"
      ]
     },
     "execution_count": 16,
     "metadata": {},
     "output_type": "execute_result"
    }
   ],
   "source": [
    "np.array({32,23,23})"
   ]
  },
  {
   "cell_type": "markdown",
   "id": "789ed82b",
   "metadata": {},
   "source": [
    "**dtype = object** creation isn't efficient to use so we will use most commonly inttype or float type data, because it will disturb you in calculations"
   ]
  },
  {
   "cell_type": "markdown",
   "id": "67e562be",
   "metadata": {},
   "source": [
    "# Instrinction function"
   ]
  },
  {
   "cell_type": "code",
   "execution_count": 17,
   "id": "8bf973e3",
   "metadata": {},
   "outputs": [],
   "source": [
    "zeros = np.zeros((2,5))"
   ]
  },
  {
   "cell_type": "code",
   "execution_count": 18,
   "id": "ced19732",
   "metadata": {},
   "outputs": [
    {
     "data": {
      "text/plain": [
       "10"
      ]
     },
     "execution_count": 18,
     "metadata": {},
     "output_type": "execute_result"
    }
   ],
   "source": [
    "zeros.size"
   ]
  },
  {
   "cell_type": "code",
   "execution_count": 19,
   "id": "f53069d1",
   "metadata": {},
   "outputs": [
    {
     "data": {
      "text/plain": [
       "array([[0., 0., 0., 0., 0.],\n",
       "       [0., 0., 0., 0., 0.]])"
      ]
     },
     "execution_count": 19,
     "metadata": {},
     "output_type": "execute_result"
    }
   ],
   "source": [
    "zeros"
   ]
  },
  {
   "cell_type": "code",
   "execution_count": 20,
   "id": "eec9bf02",
   "metadata": {},
   "outputs": [
    {
     "data": {
      "text/plain": [
       "dtype('float64')"
      ]
     },
     "execution_count": 20,
     "metadata": {},
     "output_type": "execute_result"
    }
   ],
   "source": [
    "zeros.dtype"
   ]
  },
  {
   "cell_type": "code",
   "execution_count": 22,
   "id": "1eb19feb",
   "metadata": {},
   "outputs": [],
   "source": [
    "# Simple increment in number till 0 to 14\n",
    "\n",
    "rng = np.arange(15)"
   ]
  },
  {
   "cell_type": "code",
   "execution_count": 23,
   "id": "e6e691b5",
   "metadata": {},
   "outputs": [
    {
     "data": {
      "text/plain": [
       "array([ 0,  1,  2,  3,  4,  5,  6,  7,  8,  9, 10, 11, 12, 13, 14])"
      ]
     },
     "execution_count": 23,
     "metadata": {},
     "output_type": "execute_result"
    }
   ],
   "source": [
    "rng "
   ]
  },
  {
   "cell_type": "code",
   "execution_count": 26,
   "id": "8a037e09",
   "metadata": {},
   "outputs": [],
   "source": [
    "# It will gives the 1 to 5 range linearly exactly equally space in 12 element give us\n",
    "\n",
    "lspace = np.linspace(1,50,12)"
   ]
  },
  {
   "cell_type": "code",
   "execution_count": 27,
   "id": "e49a1246",
   "metadata": {},
   "outputs": [
    {
     "data": {
      "text/plain": [
       "array([ 1.        ,  5.45454545,  9.90909091, 14.36363636, 18.81818182,\n",
       "       23.27272727, 27.72727273, 32.18181818, 36.63636364, 41.09090909,\n",
       "       45.54545455, 50.        ])"
      ]
     },
     "execution_count": 27,
     "metadata": {},
     "output_type": "execute_result"
    }
   ],
   "source": [
    "lspace"
   ]
  },
  {
   "cell_type": "code",
   "execution_count": 28,
   "id": "8bcd4b43",
   "metadata": {},
   "outputs": [],
   "source": [
    "# It will gives a empty array and in this element which we get is random\n",
    "\n",
    "emmp = np.empty((4,6))"
   ]
  },
  {
   "cell_type": "code",
   "execution_count": 29,
   "id": "6749afb7",
   "metadata": {},
   "outputs": [
    {
     "data": {
      "text/plain": [
       "array([[6.23042070e-307, 1.86918699e-306, 1.69121096e-306,\n",
       "        1.11260280e-306, 4.45061456e-308, 1.69120552e-306],\n",
       "       [7.56587585e-307, 1.37961302e-306, 1.05699242e-307,\n",
       "        8.01097889e-307, 1.78020169e-306, 7.56601165e-307],\n",
       "       [1.02359984e-306, 1.33510679e-306, 2.22522597e-306,\n",
       "        1.33511018e-306, 6.23057689e-307, 9.45754852e-308],\n",
       "       [1.27946076e-307, 1.05700515e-307, 1.11261774e-306,\n",
       "        1.29060871e-306, 8.34424766e-308, 2.12203497e-312]])"
      ]
     },
     "execution_count": 29,
     "metadata": {},
     "output_type": "execute_result"
    }
   ],
   "source": [
    "emmp\n"
   ]
  },
  {
   "cell_type": "code",
   "execution_count": 30,
   "id": "baab4e6c",
   "metadata": {},
   "outputs": [],
   "source": [
    "# it will copy that array and make that array as empty \n",
    "\n",
    "emplike = np.empty_like(lspace)"
   ]
  },
  {
   "cell_type": "code",
   "execution_count": 31,
   "id": "a104db9b",
   "metadata": {},
   "outputs": [
    {
     "data": {
      "text/plain": [
       "array([ 1.        ,  5.45454545,  9.90909091, 14.36363636, 18.81818182,\n",
       "       23.27272727, 27.72727273, 32.18181818, 36.63636364, 41.09090909,\n",
       "       45.54545455, 50.        ])"
      ]
     },
     "execution_count": 31,
     "metadata": {},
     "output_type": "execute_result"
    }
   ],
   "source": [
    "emplike"
   ]
  },
  {
   "cell_type": "code",
   "execution_count": 33,
   "id": "10b7f046",
   "metadata": {},
   "outputs": [],
   "source": [
    "# it will create 45 x 45 identity array\n",
    "\n",
    "# np.eye is also make an 2-D identity array\n",
    "\n",
    "ide = np.identity(45)"
   ]
  },
  {
   "cell_type": "code",
   "execution_count": 34,
   "id": "00144a59",
   "metadata": {},
   "outputs": [
    {
     "data": {
      "text/plain": [
       "array([[1., 0., 0., ..., 0., 0., 0.],\n",
       "       [0., 1., 0., ..., 0., 0., 0.],\n",
       "       [0., 0., 1., ..., 0., 0., 0.],\n",
       "       ...,\n",
       "       [0., 0., 0., ..., 1., 0., 0.],\n",
       "       [0., 0., 0., ..., 0., 1., 0.],\n",
       "       [0., 0., 0., ..., 0., 0., 1.]])"
      ]
     },
     "execution_count": 34,
     "metadata": {},
     "output_type": "execute_result"
    }
   ],
   "source": [
    "ide"
   ]
  },
  {
   "cell_type": "code",
   "execution_count": 35,
   "id": "51ceee55",
   "metadata": {},
   "outputs": [
    {
     "data": {
      "text/plain": [
       "(45, 45)"
      ]
     },
     "execution_count": 35,
     "metadata": {},
     "output_type": "execute_result"
    }
   ],
   "source": [
    "ide.shape"
   ]
  },
  {
   "cell_type": "code",
   "execution_count": 37,
   "id": "d544a619",
   "metadata": {},
   "outputs": [],
   "source": [
    "arr = np.arange(99)"
   ]
  },
  {
   "cell_type": "code",
   "execution_count": 38,
   "id": "b7bfa333",
   "metadata": {},
   "outputs": [
    {
     "data": {
      "text/plain": [
       "array([ 0,  1,  2,  3,  4,  5,  6,  7,  8,  9, 10, 11, 12, 13, 14, 15, 16,\n",
       "       17, 18, 19, 20, 21, 22, 23, 24, 25, 26, 27, 28, 29, 30, 31, 32, 33,\n",
       "       34, 35, 36, 37, 38, 39, 40, 41, 42, 43, 44, 45, 46, 47, 48, 49, 50,\n",
       "       51, 52, 53, 54, 55, 56, 57, 58, 59, 60, 61, 62, 63, 64, 65, 66, 67,\n",
       "       68, 69, 70, 71, 72, 73, 74, 75, 76, 77, 78, 79, 80, 81, 82, 83, 84,\n",
       "       85, 86, 87, 88, 89, 90, 91, 92, 93, 94, 95, 96, 97, 98])"
      ]
     },
     "execution_count": 38,
     "metadata": {},
     "output_type": "execute_result"
    }
   ],
   "source": [
    "arr"
   ]
  },
  {
   "cell_type": "code",
   "execution_count": 39,
   "id": "81e45f42",
   "metadata": {},
   "outputs": [],
   "source": [
    "#  we must consider on this step the array after multiply x and y axis\n",
    "# we should get exact axis which we have an actual array\n",
    "# Like if i will apply (3,31) it will through an error so\n",
    "# I will use this 3 x 33 = 99 and 3 x 31 = 93\n",
    "\n",
    "# There are 3 rows and 33 columns\n",
    "\n",
    "abc = arr.reshape(3, 33)"
   ]
  },
  {
   "cell_type": "code",
   "execution_count": 40,
   "id": "4403c40b",
   "metadata": {},
   "outputs": [
    {
     "data": {
      "text/plain": [
       "array([[ 0,  1,  2,  3,  4,  5,  6,  7,  8,  9, 10, 11, 12, 13, 14, 15,\n",
       "        16, 17, 18, 19, 20, 21, 22, 23, 24, 25, 26, 27, 28, 29, 30, 31,\n",
       "        32],\n",
       "       [33, 34, 35, 36, 37, 38, 39, 40, 41, 42, 43, 44, 45, 46, 47, 48,\n",
       "        49, 50, 51, 52, 53, 54, 55, 56, 57, 58, 59, 60, 61, 62, 63, 64,\n",
       "        65],\n",
       "       [66, 67, 68, 69, 70, 71, 72, 73, 74, 75, 76, 77, 78, 79, 80, 81,\n",
       "        82, 83, 84, 85, 86, 87, 88, 89, 90, 91, 92, 93, 94, 95, 96, 97,\n",
       "        98]])"
      ]
     },
     "execution_count": 40,
     "metadata": {},
     "output_type": "execute_result"
    }
   ],
   "source": [
    "abc"
   ]
  },
  {
   "cell_type": "code",
   "execution_count": 43,
   "id": "4001dd1a",
   "metadata": {},
   "outputs": [],
   "source": [
    "# ravel() function convert 2-D array into the 1-D Array\n",
    "\n",
    "abc = abc.ravel()"
   ]
  },
  {
   "cell_type": "code",
   "execution_count": 44,
   "id": "085f50cb",
   "metadata": {},
   "outputs": [
    {
     "data": {
      "text/plain": [
       "array([ 0,  1,  2,  3,  4,  5,  6,  7,  8,  9, 10, 11, 12, 13, 14, 15, 16,\n",
       "       17, 18, 19, 20, 21, 22, 23, 24, 25, 26, 27, 28, 29, 30, 31, 32, 33,\n",
       "       34, 35, 36, 37, 38, 39, 40, 41, 42, 43, 44, 45, 46, 47, 48, 49, 50,\n",
       "       51, 52, 53, 54, 55, 56, 57, 58, 59, 60, 61, 62, 63, 64, 65, 66, 67,\n",
       "       68, 69, 70, 71, 72, 73, 74, 75, 76, 77, 78, 79, 80, 81, 82, 83, 84,\n",
       "       85, 86, 87, 88, 89, 90, 91, 92, 93, 94, 95, 96, 97, 98])"
      ]
     },
     "execution_count": 44,
     "metadata": {},
     "output_type": "execute_result"
    }
   ],
   "source": [
    "abc\n"
   ]
  },
  {
   "cell_type": "code",
   "execution_count": 45,
   "id": "8ce77fc0",
   "metadata": {},
   "outputs": [
    {
     "data": {
      "text/plain": [
       "(99,)"
      ]
     },
     "execution_count": 45,
     "metadata": {},
     "output_type": "execute_result"
    }
   ],
   "source": [
    "arr.shape"
   ]
  },
  {
   "cell_type": "code",
   "execution_count": 46,
   "id": "771bffcf",
   "metadata": {},
   "outputs": [
    {
     "data": {
      "text/plain": [
       "(99,)"
      ]
     },
     "execution_count": 46,
     "metadata": {},
     "output_type": "execute_result"
    }
   ],
   "source": [
    "abc.shape"
   ]
  },
  {
   "cell_type": "code",
   "execution_count": 47,
   "id": "01c1fa65",
   "metadata": {},
   "outputs": [],
   "source": [
    "# This is the 1Row and 2Column and with fill it with ones\n",
    "\n",
    "aray = np.ones((1,2))"
   ]
  },
  {
   "cell_type": "code",
   "execution_count": 48,
   "id": "fecc28b7",
   "metadata": {},
   "outputs": [
    {
     "data": {
      "text/plain": [
       "array([[1., 1.]])"
      ]
     },
     "execution_count": 48,
     "metadata": {},
     "output_type": "execute_result"
    }
   ],
   "source": [
    "aray"
   ]
  },
  {
   "cell_type": "code",
   "execution_count": 49,
   "id": "37d58efb",
   "metadata": {},
   "outputs": [],
   "source": [
    "# This is 2 X 2 array and fill with 7\n",
    "\n",
    "fully =  np.full((2,2),7)"
   ]
  },
  {
   "cell_type": "code",
   "execution_count": 50,
   "id": "64c88a30",
   "metadata": {},
   "outputs": [
    {
     "data": {
      "text/plain": [
       "array([[7, 7],\n",
       "       [7, 7]])"
      ]
     },
     "execution_count": 50,
     "metadata": {},
     "output_type": "execute_result"
    }
   ],
   "source": [
    "fully"
   ]
  },
  {
   "cell_type": "code",
   "execution_count": 52,
   "id": "6833fba6",
   "metadata": {},
   "outputs": [],
   "source": [
    "# It will create 2X2 random array\n",
    "\n",
    "ran = np.random.random((2,2))"
   ]
  },
  {
   "cell_type": "code",
   "execution_count": 53,
   "id": "eb45dcdc",
   "metadata": {},
   "outputs": [
    {
     "data": {
      "text/plain": [
       "array([[0.21397233, 0.72893535],\n",
       "       [0.5404114 , 0.64579383]])"
      ]
     },
     "execution_count": 53,
     "metadata": {},
     "output_type": "execute_result"
    }
   ],
   "source": [
    "ran"
   ]
  },
  {
   "cell_type": "markdown",
   "id": "81abf3aa",
   "metadata": {},
   "source": [
    "# Slicing"
   ]
  },
  {
   "cell_type": "code",
   "execution_count": 54,
   "id": "13d22746",
   "metadata": {},
   "outputs": [],
   "source": [
    "a=np.array([[1,2,3,4],\n",
    "            [5,6,7,8],\n",
    "            [9,10,11,12]])"
   ]
  },
  {
   "cell_type": "code",
   "execution_count": 72,
   "id": "9d8a6f6e",
   "metadata": {
    "scrolled": true
   },
   "outputs": [
    {
     "name": "stdout",
     "output_type": "stream",
     "text": [
      "[[7 8]]\n"
     ]
    }
   ],
   "source": [
    "# 1:2 is representing a Rows and 2:4 is representing a ccolumn\n",
    "\n",
    "b = a[1:2,2:4]\n",
    "\n",
    "print(b)"
   ]
  },
  {
   "cell_type": "markdown",
   "id": "bc8056d1",
   "metadata": {},
   "source": [
    "**How we can use axis=0** \n",
    "\n",
    "Actually it's represent the column1 , Column 2, column 3 values."
   ]
  },
  {
   "cell_type": "code",
   "execution_count": 76,
   "id": "20496c5c",
   "metadata": {},
   "outputs": [
    {
     "data": {
      "text/plain": [
       "array([15, 18, 21, 24])"
      ]
     },
     "execution_count": 76,
     "metadata": {},
     "output_type": "execute_result"
    }
   ],
   "source": [
    "# This sum the value column wise it's direction is up to down |\n",
    "\n",
    "a.sum(axis = 0)"
   ]
  },
  {
   "cell_type": "markdown",
   "id": "27038dad",
   "metadata": {},
   "source": [
    "\n",
    "**How we can use axis=1**\n",
    "\n",
    "Actually it's represent the Row1 , Row 2, Row 3 values."
   ]
  },
  {
   "cell_type": "code",
   "execution_count": 77,
   "id": "de19c98b",
   "metadata": {},
   "outputs": [
    {
     "data": {
      "text/plain": [
       "array([10, 26, 42])"
      ]
     },
     "execution_count": 77,
     "metadata": {},
     "output_type": "execute_result"
    }
   ],
   "source": [
    "# This sum the value row wise it's direction is left to right |\n",
    "\n",
    "a.sum(axis = 1)"
   ]
  },
  {
   "cell_type": "markdown",
   "id": "bde2df97",
   "metadata": {},
   "source": [
    "# How to Transpose an Array"
   ]
  },
  {
   "cell_type": "code",
   "execution_count": 78,
   "id": "124545a0",
   "metadata": {},
   "outputs": [
    {
     "data": {
      "text/plain": [
       "array([[ 1,  5,  9],\n",
       "       [ 2,  6, 10],\n",
       "       [ 3,  7, 11],\n",
       "       [ 4,  8, 12]])"
      ]
     },
     "execution_count": 78,
     "metadata": {},
     "output_type": "execute_result"
    }
   ],
   "source": [
    "# Capital T is transpose the array\n",
    "\n",
    "a.T"
   ]
  },
  {
   "cell_type": "markdown",
   "id": "c09d7e5b",
   "metadata": {},
   "source": [
    "# How to contain an items of an array through flat"
   ]
  },
  {
   "cell_type": "code",
   "execution_count": 79,
   "id": "4051a1bc",
   "metadata": {},
   "outputs": [
    {
     "data": {
      "text/plain": [
       "<numpy.flatiter at 0x1c4c743b3d0>"
      ]
     },
     "execution_count": 79,
     "metadata": {},
     "output_type": "execute_result"
    }
   ],
   "source": [
    "a.flat"
   ]
  },
  {
   "cell_type": "code",
   "execution_count": 80,
   "id": "8e301765",
   "metadata": {},
   "outputs": [
    {
     "name": "stdout",
     "output_type": "stream",
     "text": [
      "1\n",
      "2\n",
      "3\n",
      "4\n",
      "5\n",
      "6\n",
      "7\n",
      "8\n",
      "9\n",
      "10\n",
      "11\n",
      "12\n"
     ]
    }
   ],
   "source": [
    "#Such as\n",
    "\n",
    "for item in a.flat:\n",
    "    print(item)"
   ]
  },
  {
   "cell_type": "markdown",
   "id": "7472c749",
   "metadata": {},
   "source": [
    "# How to check dimension\n"
   ]
  },
  {
   "cell_type": "code",
   "execution_count": 81,
   "id": "7cffbbc7",
   "metadata": {},
   "outputs": [
    {
     "data": {
      "text/plain": [
       "2"
      ]
     },
     "execution_count": 81,
     "metadata": {},
     "output_type": "execute_result"
    }
   ],
   "source": [
    "a.ndim"
   ]
  },
  {
   "cell_type": "code",
   "execution_count": 82,
   "id": "c8f40fab",
   "metadata": {},
   "outputs": [
    {
     "data": {
      "text/plain": [
       "12"
      ]
     },
     "execution_count": 82,
     "metadata": {},
     "output_type": "execute_result"
    }
   ],
   "source": [
    "a.size"
   ]
  },
  {
   "cell_type": "code",
   "execution_count": 84,
   "id": "b231ea6a",
   "metadata": {},
   "outputs": [
    {
     "data": {
      "text/plain": [
       "48"
      ]
     },
     "execution_count": 84,
     "metadata": {},
     "output_type": "execute_result"
    }
   ],
   "source": [
    "# how many space containn through the array by your elements\n",
    "\n",
    "a.nbytes"
   ]
  },
  {
   "cell_type": "code",
   "execution_count": 104,
   "id": "1a261083",
   "metadata": {},
   "outputs": [],
   "source": [
    "one = np.array([1,3,4,634,2])\n",
    "two = np.array([1,3,214,26,2])"
   ]
  },
  {
   "cell_type": "code",
   "execution_count": 105,
   "id": "4d86d6bb",
   "metadata": {},
   "outputs": [
    {
     "data": {
      "text/plain": [
       "2"
      ]
     },
     "execution_count": 105,
     "metadata": {},
     "output_type": "execute_result"
    }
   ],
   "source": [
    "# It gives us the index number where's our maximum element exists\n",
    "\n",
    "one.argmax()\n",
    "two.argmax()"
   ]
  },
  {
   "cell_type": "code",
   "execution_count": 107,
   "id": "9a22f303",
   "metadata": {},
   "outputs": [
    {
     "data": {
      "text/plain": [
       "0"
      ]
     },
     "execution_count": 107,
     "metadata": {},
     "output_type": "execute_result"
    }
   ],
   "source": [
    "# It gives us the index number where's our minimum element exists\n",
    "\n",
    "one.argmin()"
   ]
  },
  {
   "cell_type": "code",
   "execution_count": 108,
   "id": "19f872ce",
   "metadata": {},
   "outputs": [
    {
     "data": {
      "text/plain": [
       "array([0, 4, 1, 2, 3], dtype=int64)"
      ]
     },
     "execution_count": 108,
     "metadata": {},
     "output_type": "execute_result"
    }
   ],
   "source": [
    "# It's give us those indexes which sort the array\n",
    "\n",
    "one.argsort()"
   ]
  },
  {
   "cell_type": "code",
   "execution_count": 109,
   "id": "8e9237c7",
   "metadata": {},
   "outputs": [
    {
     "data": {
      "text/plain": [
       "0"
      ]
     },
     "execution_count": 109,
     "metadata": {},
     "output_type": "execute_result"
    }
   ],
   "source": [
    "a.argmin()"
   ]
  },
  {
   "cell_type": "code",
   "execution_count": 110,
   "id": "f487a97d",
   "metadata": {},
   "outputs": [
    {
     "data": {
      "text/plain": [
       "array([2, 2, 2, 2], dtype=int64)"
      ]
     },
     "execution_count": 110,
     "metadata": {},
     "output_type": "execute_result"
    }
   ],
   "source": [
    "a.argmax(axis=0)"
   ]
  },
  {
   "cell_type": "code",
   "execution_count": 111,
   "id": "75625592",
   "metadata": {},
   "outputs": [
    {
     "data": {
      "text/plain": [
       "array([3, 3, 3], dtype=int64)"
      ]
     },
     "execution_count": 111,
     "metadata": {},
     "output_type": "execute_result"
    }
   ],
   "source": [
    "a.argmax(axis=1)"
   ]
  },
  {
   "cell_type": "code",
   "execution_count": 115,
   "id": "ec753a9f",
   "metadata": {},
   "outputs": [
    {
     "data": {
      "text/plain": [
       "array([ 1,  2,  3,  4,  5,  6,  7,  8,  9, 10, 11, 12])"
      ]
     },
     "execution_count": 115,
     "metadata": {},
     "output_type": "execute_result"
    }
   ],
   "source": [
    "a.ravel()"
   ]
  },
  {
   "cell_type": "code",
   "execution_count": 118,
   "id": "f6d67034",
   "metadata": {},
   "outputs": [
    {
     "data": {
      "text/plain": [
       "array([[ 1],\n",
       "       [ 2],\n",
       "       [ 3],\n",
       "       [ 4],\n",
       "       [ 5],\n",
       "       [ 6],\n",
       "       [ 7],\n",
       "       [ 8],\n",
       "       [ 9],\n",
       "       [10],\n",
       "       [11],\n",
       "       [12]])"
      ]
     },
     "execution_count": 118,
     "metadata": {},
     "output_type": "execute_result"
    }
   ],
   "source": [
    "# It's change the indexes rows and column wise\n",
    "\n",
    "a.reshape((12,1))"
   ]
  },
  {
   "cell_type": "markdown",
   "id": "87427974",
   "metadata": {},
   "source": [
    "# Mathematical Operation"
   ]
  },
  {
   "cell_type": "code",
   "execution_count": 121,
   "id": "27f81cfe",
   "metadata": {},
   "outputs": [],
   "source": [
    "ab = np.array([[2,3,4,3],\n",
    "               [1,1,5,5],\n",
    "               [3,6,7,6]])"
   ]
  },
  {
   "cell_type": "code",
   "execution_count": 122,
   "id": "161cb6d2",
   "metadata": {},
   "outputs": [
    {
     "data": {
      "text/plain": [
       "array([[ 3,  5,  7,  7],\n",
       "       [ 6,  7, 12, 13],\n",
       "       [12, 16, 18, 18]])"
      ]
     },
     "execution_count": 122,
     "metadata": {},
     "output_type": "execute_result"
    }
   ],
   "source": [
    "a +ab"
   ]
  },
  {
   "cell_type": "code",
   "execution_count": 124,
   "id": "8ce5dc4c",
   "metadata": {},
   "outputs": [
    {
     "data": {
      "text/plain": [
       "[21, 33, 12, 12]"
      ]
     },
     "execution_count": 124,
     "metadata": {},
     "output_type": "execute_result"
    }
   ],
   "source": [
    "# Extend the list\n",
    "\n",
    "[21,33]+[12,12]"
   ]
  },
  {
   "cell_type": "code",
   "execution_count": 125,
   "id": "e27038b4",
   "metadata": {},
   "outputs": [
    {
     "data": {
      "text/plain": [
       "array([[ 2,  6, 12, 12],\n",
       "       [ 5,  6, 35, 40],\n",
       "       [27, 60, 77, 72]])"
      ]
     },
     "execution_count": 125,
     "metadata": {},
     "output_type": "execute_result"
    }
   ],
   "source": [
    "a * ab"
   ]
  },
  {
   "cell_type": "code",
   "execution_count": 127,
   "id": "0ae14dbb",
   "metadata": {},
   "outputs": [
    {
     "data": {
      "text/plain": [
       "array([[1.41421356, 1.73205081, 2.        , 1.73205081],\n",
       "       [1.        , 1.        , 2.23606798, 2.23606798],\n",
       "       [1.73205081, 2.44948974, 2.64575131, 2.44948974]])"
      ]
     },
     "execution_count": 127,
     "metadata": {},
     "output_type": "execute_result"
    }
   ],
   "source": [
    "# It's taking an square root of the element\n",
    "\n",
    "np.sqrt(ab)"
   ]
  },
  {
   "cell_type": "code",
   "execution_count": 129,
   "id": "b45e2721",
   "metadata": {},
   "outputs": [
    {
     "data": {
      "text/plain": [
       "46"
      ]
     },
     "execution_count": 129,
     "metadata": {},
     "output_type": "execute_result"
    }
   ],
   "source": [
    "# Sum of all ellements\n",
    "\n",
    "ab.sum()"
   ]
  },
  {
   "cell_type": "code",
   "execution_count": 130,
   "id": "b8cf6c01",
   "metadata": {},
   "outputs": [
    {
     "data": {
      "text/plain": [
       "7"
      ]
     },
     "execution_count": 130,
     "metadata": {},
     "output_type": "execute_result"
    }
   ],
   "source": [
    "ab.max()"
   ]
  },
  {
   "cell_type": "code",
   "execution_count": 131,
   "id": "5a5193dc",
   "metadata": {},
   "outputs": [
    {
     "data": {
      "text/plain": [
       "1"
      ]
     },
     "execution_count": 131,
     "metadata": {},
     "output_type": "execute_result"
    }
   ],
   "source": [
    "ab.min()"
   ]
  },
  {
   "cell_type": "markdown",
   "id": "1cd83882",
   "metadata": {},
   "source": [
    "# How to find the Element"
   ]
  },
  {
   "cell_type": "code",
   "execution_count": 132,
   "id": "092cc911",
   "metadata": {},
   "outputs": [
    {
     "data": {
      "text/plain": [
       "(array([2, 2, 2], dtype=int64), array([1, 2, 3], dtype=int64))"
      ]
     },
     "execution_count": 132,
     "metadata": {},
     "output_type": "execute_result"
    }
   ],
   "source": [
    "np.where(ab>5)"
   ]
  },
  {
   "cell_type": "markdown",
   "id": "45f125aa",
   "metadata": {},
   "source": [
    "**(array([2, 2, 2], dtype=int64), array([1, 2, 3], dtype=int64))**\n",
    "\n",
    "\n",
    "Here is first array[2] **Row** to second array[1] **Column**\n",
    "\n",
    "Here is first array[2] **Row** to second array[2] **Column**\n",
    "\n",
    "Here is first array[2] **Row** to second array[3] **Column**"
   ]
  },
  {
   "cell_type": "code",
   "execution_count": 133,
   "id": "c3c22311",
   "metadata": {},
   "outputs": [
    {
     "data": {
      "text/plain": [
       "tuple"
      ]
     },
     "execution_count": 133,
     "metadata": {},
     "output_type": "execute_result"
    }
   ],
   "source": [
    "type(np.where(ab>5))"
   ]
  },
  {
   "cell_type": "code",
   "execution_count": 134,
   "id": "b47991e4",
   "metadata": {},
   "outputs": [
    {
     "data": {
      "text/plain": [
       "12"
      ]
     },
     "execution_count": 134,
     "metadata": {},
     "output_type": "execute_result"
    }
   ],
   "source": [
    "# It will count the non zero elements\n",
    "\n",
    "np.count_nonzero(ab)"
   ]
  },
  {
   "cell_type": "code",
   "execution_count": 135,
   "id": "a8a0d24d",
   "metadata": {},
   "outputs": [
    {
     "data": {
      "text/plain": [
       "(array([0, 0, 0, 0, 1, 1, 1, 1, 2, 2, 2, 2], dtype=int64),\n",
       " array([0, 1, 2, 3, 0, 1, 2, 3, 0, 1, 2, 3], dtype=int64))"
      ]
     },
     "execution_count": 135,
     "metadata": {},
     "output_type": "execute_result"
    }
   ],
   "source": [
    "# Now it's tell us where is non zero element presents\n",
    "\n",
    "np.nonzero(ab)"
   ]
  },
  {
   "cell_type": "markdown",
   "id": "806fecc1",
   "metadata": {},
   "source": [
    "# Check the size of array"
   ]
  },
  {
   "cell_type": "code",
   "execution_count": 136,
   "id": "9d5ca526",
   "metadata": {},
   "outputs": [],
   "source": [
    "import sys"
   ]
  },
  {
   "cell_type": "code",
   "execution_count": 137,
   "id": "2e906648",
   "metadata": {},
   "outputs": [],
   "source": [
    "check = [0,4,55,2]"
   ]
  },
  {
   "cell_type": "code",
   "execution_count": 138,
   "id": "89b5b875",
   "metadata": {},
   "outputs": [],
   "source": [
    "nparr = np.array(check)"
   ]
  },
  {
   "cell_type": "code",
   "execution_count": 139,
   "id": "b4e22f6e",
   "metadata": {},
   "outputs": [
    {
     "data": {
      "text/plain": [
       "112"
      ]
     },
     "execution_count": 139,
     "metadata": {},
     "output_type": "execute_result"
    }
   ],
   "source": [
    "# Size of simple array bytes\n",
    "\n",
    "sys.getsizeof(1) * len(check)"
   ]
  },
  {
   "cell_type": "code",
   "execution_count": 141,
   "id": "591e0b08",
   "metadata": {},
   "outputs": [
    {
     "data": {
      "text/plain": [
       "16"
      ]
     },
     "execution_count": 141,
     "metadata": {},
     "output_type": "execute_result"
    }
   ],
   "source": [
    "# Size of numpy array in bytes\n",
    "\n",
    "nparr.itemsize * nparr.size"
   ]
  },
  {
   "cell_type": "code",
   "execution_count": null,
   "id": "57b39f91",
   "metadata": {},
   "outputs": [],
   "source": [
    "# https://docs.scipy.org/doc/numpy-1.6.0/reference/generated/numpy.ndarray.html"
   ]
  }
 ],
 "metadata": {
  "kernelspec": {
   "display_name": "Python 3",
   "language": "python",
   "name": "python3"
  },
  "language_info": {
   "codemirror_mode": {
    "name": "ipython",
    "version": 3
   },
   "file_extension": ".py",
   "mimetype": "text/x-python",
   "name": "python",
   "nbconvert_exporter": "python",
   "pygments_lexer": "ipython3",
   "version": "3.8.8"
  }
 },
 "nbformat": 4,
 "nbformat_minor": 5
}
